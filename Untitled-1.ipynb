{
 "cells": [
  {
   "cell_type": "code",
   "execution_count": null,
   "metadata": {},
   "outputs": [],
   "source": [
    "def calculator(num1, num2):\n",
    "    # Prompt user to enter the operator\n",
    "    operator = input(\"Enter the operator (+, -, *, /): \")\n",
    "\n",
    "    # Perform the operation based on the operator\n",
    "    if operator == '+':\n",
    "        result = num1 + num2\n",
    "    elif operator == '-':\n",
    "        result = num1 - num2\n",
    "    elif operator == '*':\n",
    "        result = num1 * num2\n",
    "    elif operator == '/':\n",
    "        # Handle division by zero\n",
    "        if num2 == 0:\n",
    "            return \"Error: Division by zero is not allowed.\"\n",
    "        result = num1 / num2\n",
    "    else:\n",
    "        return \"Error: Invalid operator.\"\n",
    "\n",
    "    return f\"The result is: {result}\"\n",
    "\n",
    "# Main program\n",
    "try:\n",
    "    # Input from user\n",
    "    first_number = float(input(\"Enter the first number: \"))\n",
    "    second_number = float(input(\"Enter the second number: \"))\n",
    "\n",
    "    # Call the calculator function and print the result\n",
    "    print(calculator(first_number, second_number))\n",
    "except ValueError:\n",
    "    print(\"Error: Invalid input. Please enter numerical values.\")\n"
   ]
  }
 ],
 "metadata": {
  "language_info": {
   "name": "python"
  },
  "orig_nbformat": 4
 },
 "nbformat": 4,
 "nbformat_minor": 2
}
